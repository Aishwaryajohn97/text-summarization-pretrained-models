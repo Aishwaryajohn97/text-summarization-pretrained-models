{
 "cells": [
  {
   "cell_type": "code",
   "execution_count": 1,
   "metadata": {
    "colab": {
     "base_uri": "https://localhost:8080/"
    },
    "executionInfo": {
     "elapsed": 1621,
     "status": "ok",
     "timestamp": 1680081320866,
     "user": {
      "displayName": "Jada Projects",
      "userId": "13935386077665551865"
     },
     "user_tz": -330
    },
    "id": "oyvZdSzyPN5B",
    "outputId": "d5b40430-70e1-40a6-f762-250f7c4b0b7b"
   },
   "outputs": [
    {
     "data": {
      "text/plain": [
       "(100, 4)"
      ]
     },
     "execution_count": 1,
     "metadata": {},
     "output_type": "execute_result"
    }
   ],
   "source": [
    "import pandas as baile_ProcedPs\n",
    "##import Old Bailey Proceedings Files\n",
    "baile_Proced = baile_ProcedPs.read_excel('Old Bailey Proceedings.xlsx')\n",
    "baile_Proced.shape"
   ]
  },
  {
   "cell_type": "code",
   "execution_count": 2,
   "metadata": {
    "colab": {
     "base_uri": "https://localhost:8080/",
     "height": 206
    },
    "executionInfo": {
     "elapsed": 72,
     "status": "ok",
     "timestamp": 1680081320869,
     "user": {
      "displayName": "Jada Projects",
      "userId": "13935386077665551865"
     },
     "user_tz": -330
    },
    "id": "OJdM0dSvPGZv",
    "outputId": "d87985c6-29da-417c-a441-cfb63c739614"
   },
   "outputs": [
    {
     "data": {
      "text/html": [
       "<div>\n",
       "<style scoped>\n",
       "    .dataframe tbody tr th:only-of-type {\n",
       "        vertical-align: middle;\n",
       "    }\n",
       "\n",
       "    .dataframe tbody tr th {\n",
       "        vertical-align: top;\n",
       "    }\n",
       "\n",
       "    .dataframe thead th {\n",
       "        text-align: right;\n",
       "    }\n",
       "</style>\n",
       "<table border=\"1\" class=\"dataframe\">\n",
       "  <thead>\n",
       "    <tr style=\"text-align: right;\">\n",
       "      <th></th>\n",
       "      <th>Date</th>\n",
       "      <th>link</th>\n",
       "      <th>Category</th>\n",
       "      <th>Proceedings Content</th>\n",
       "    </tr>\n",
       "  </thead>\n",
       "  <tbody>\n",
       "    <tr>\n",
       "      <th>0</th>\n",
       "      <td>15th January 1900</td>\n",
       "      <td>https://www.oldbaileyonline.org/browse.jsp?id=...</td>\n",
       "      <td>Breaking Peace</td>\n",
       "      <td>RICHARD BOWERS . I live at 1, Chadwick Street,...</td>\n",
       "    </tr>\n",
       "    <tr>\n",
       "      <th>1</th>\n",
       "      <td>15th January 1900</td>\n",
       "      <td>https://www.oldbaileyonline.org/browse.jsp?id=...</td>\n",
       "      <td>Theft</td>\n",
       "      <td>WILLIAM JOHN WHYTE . On December 13th, between...</td>\n",
       "    </tr>\n",
       "    <tr>\n",
       "      <th>2</th>\n",
       "      <td>15th January 1900</td>\n",
       "      <td>https://www.oldbaileyonline.org/browse.jsp?id=...</td>\n",
       "      <td>Theft</td>\n",
       "      <td>JAMES AMOS (City Detective). On January 1st, a...</td>\n",
       "    </tr>\n",
       "    <tr>\n",
       "      <th>3</th>\n",
       "      <td>15th January 1900</td>\n",
       "      <td>https://www.oldbaileyonline.org/browse.jsp?id=...</td>\n",
       "      <td>Killing</td>\n",
       "      <td>about 4.30 p.m. on August 30th I was driving m...</td>\n",
       "    </tr>\n",
       "    <tr>\n",
       "      <th>4</th>\n",
       "      <td>12th February 1900</td>\n",
       "      <td>https://www.oldbaileyonline.org/browse.jsp?id=...</td>\n",
       "      <td>Deception</td>\n",
       "      <td>GEORGE ENGLISH BOYLE . I am a messenger at the...</td>\n",
       "    </tr>\n",
       "  </tbody>\n",
       "</table>\n",
       "</div>"
      ],
      "text/plain": [
       "                 Date                                               link  \\\n",
       "0   15th January 1900  https://www.oldbaileyonline.org/browse.jsp?id=...   \n",
       "1   15th January 1900  https://www.oldbaileyonline.org/browse.jsp?id=...   \n",
       "2   15th January 1900  https://www.oldbaileyonline.org/browse.jsp?id=...   \n",
       "3   15th January 1900  https://www.oldbaileyonline.org/browse.jsp?id=...   \n",
       "4  12th February 1900  https://www.oldbaileyonline.org/browse.jsp?id=...   \n",
       "\n",
       "         Category                                Proceedings Content  \n",
       "0  Breaking Peace  RICHARD BOWERS . I live at 1, Chadwick Street,...  \n",
       "1           Theft  WILLIAM JOHN WHYTE . On December 13th, between...  \n",
       "2           Theft  JAMES AMOS (City Detective). On January 1st, a...  \n",
       "3         Killing  about 4.30 p.m. on August 30th I was driving m...  \n",
       "4       Deception  GEORGE ENGLISH BOYLE . I am a messenger at the...  "
      ]
     },
     "execution_count": 2,
     "metadata": {},
     "output_type": "execute_result"
    }
   ],
   "source": [
    "baile_Proced[:5]# 5 top data"
   ]
  },
  {
   "cell_type": "code",
   "execution_count": 3,
   "metadata": {
    "colab": {
     "base_uri": "https://localhost:8080/",
     "height": 206
    },
    "executionInfo": {
     "elapsed": 71,
     "status": "ok",
     "timestamp": 1680081320871,
     "user": {
      "displayName": "Jada Projects",
      "userId": "13935386077665551865"
     },
     "user_tz": -330
    },
    "id": "1gnfORDBPN78",
    "outputId": "313472f0-0410-4490-fd76-8f95a8aec834"
   },
   "outputs": [
    {
     "data": {
      "text/html": [
       "<div>\n",
       "<style scoped>\n",
       "    .dataframe tbody tr th:only-of-type {\n",
       "        vertical-align: middle;\n",
       "    }\n",
       "\n",
       "    .dataframe tbody tr th {\n",
       "        vertical-align: top;\n",
       "    }\n",
       "\n",
       "    .dataframe thead th {\n",
       "        text-align: right;\n",
       "    }\n",
       "</style>\n",
       "<table border=\"1\" class=\"dataframe\">\n",
       "  <thead>\n",
       "    <tr style=\"text-align: right;\">\n",
       "      <th></th>\n",
       "      <th>Date</th>\n",
       "      <th>link</th>\n",
       "      <th>Category</th>\n",
       "      <th>Proceedings Content</th>\n",
       "    </tr>\n",
       "  </thead>\n",
       "  <tbody>\n",
       "    <tr>\n",
       "      <th>95</th>\n",
       "      <td>11th October 1910</td>\n",
       "      <td>https://www.oldbaileyonline.org/browse.jsp?id=...</td>\n",
       "      <td>Royal Offences</td>\n",
       "      <td>Sergeant HENRY GARANRD, G Division. About 11 a...</td>\n",
       "    </tr>\n",
       "    <tr>\n",
       "      <th>96</th>\n",
       "      <td>11th October 1910</td>\n",
       "      <td>https://www.oldbaileyonline.org/browse.jsp?id=...</td>\n",
       "      <td>Breaking Peace</td>\n",
       "      <td>BENJAMIN WRAGG , 18, Risinghill Street, Clerke...</td>\n",
       "    </tr>\n",
       "    <tr>\n",
       "      <th>97</th>\n",
       "      <td>15th November 1910</td>\n",
       "      <td>https://www.oldbaileyonline.org/browse.jsp?id=...</td>\n",
       "      <td>Theft</td>\n",
       "      <td>Inspector WILLIAM EVANS (Birmingham Police). P...</td>\n",
       "    </tr>\n",
       "    <tr>\n",
       "      <th>98</th>\n",
       "      <td>6th December 1910</td>\n",
       "      <td>https://www.oldbaileyonline.org/browse.jsp?id=...</td>\n",
       "      <td>Theft</td>\n",
       "      <td>Mr. Huntly Jenkins prosecuted. Prisoner was tr...</td>\n",
       "    </tr>\n",
       "    <tr>\n",
       "      <th>99</th>\n",
       "      <td>10th January 1911</td>\n",
       "      <td>https://www.oldbaileyonline.org/browse.jsp?id=...</td>\n",
       "      <td>Breaking Peace</td>\n",
       "      <td>BABS MILLAR . I live at 81, Tabard Street, Bor...</td>\n",
       "    </tr>\n",
       "  </tbody>\n",
       "</table>\n",
       "</div>"
      ],
      "text/plain": [
       "                  Date                                               link  \\\n",
       "95   11th October 1910  https://www.oldbaileyonline.org/browse.jsp?id=...   \n",
       "96   11th October 1910  https://www.oldbaileyonline.org/browse.jsp?id=...   \n",
       "97  15th November 1910  https://www.oldbaileyonline.org/browse.jsp?id=...   \n",
       "98   6th December 1910  https://www.oldbaileyonline.org/browse.jsp?id=...   \n",
       "99   10th January 1911  https://www.oldbaileyonline.org/browse.jsp?id=...   \n",
       "\n",
       "          Category                                Proceedings Content  \n",
       "95  Royal Offences  Sergeant HENRY GARANRD, G Division. About 11 a...  \n",
       "96  Breaking Peace  BENJAMIN WRAGG , 18, Risinghill Street, Clerke...  \n",
       "97           Theft  Inspector WILLIAM EVANS (Birmingham Police). P...  \n",
       "98           Theft  Mr. Huntly Jenkins prosecuted. Prisoner was tr...  \n",
       "99  Breaking Peace  BABS MILLAR . I live at 81, Tabard Street, Bor...  "
      ]
     },
     "execution_count": 3,
     "metadata": {},
     "output_type": "execute_result"
    }
   ],
   "source": [
    "baile_Proced[-5:]# 5 tail data"
   ]
  },
  {
   "cell_type": "markdown",
   "metadata": {
    "id": "60sKFQfOVERV"
   },
   "source": [
    "*** the data contains date of the bails, link, category and proceedings contents.\n",
    "*** from year 1900 to 1910, totally 100 cases are available."
   ]
  },
  {
   "cell_type": "code",
   "execution_count": 4,
   "metadata": {
    "colab": {
     "base_uri": "https://localhost:8080/"
    },
    "executionInfo": {
     "elapsed": 70,
     "status": "ok",
     "timestamp": 1680081320874,
     "user": {
      "displayName": "Jada Projects",
      "userId": "13935386077665551865"
     },
     "user_tz": -330
    },
    "id": "6P95J-6KVy_7",
    "outputId": "77f05a4d-3a92-4db0-c015-fd599fc77319"
   },
   "outputs": [
    {
     "data": {
      "text/plain": [
       "9"
      ]
     },
     "execution_count": 4,
     "metadata": {},
     "output_type": "execute_result"
    }
   ],
   "source": [
    "baile_Proced['Category'].nunique()## number of case category"
   ]
  },
  {
   "cell_type": "code",
   "execution_count": 5,
   "metadata": {
    "colab": {
     "base_uri": "https://localhost:8080/"
    },
    "executionInfo": {
     "elapsed": 65,
     "status": "ok",
     "timestamp": 1680081320876,
     "user": {
      "displayName": "Jada Projects",
      "userId": "13935386077665551865"
     },
     "user_tz": -330
    },
    "id": "kb_76EEYPN_D",
    "outputId": "283a6adf-1372-41a3-c502-97d8faea81c7"
   },
   "outputs": [
    {
     "data": {
      "text/plain": [
       "array(['Breaking Peace', 'Theft', 'Killing', 'Deception',\n",
       "       'Royal Offences', 'Violent Theft', 'Sexual Offences',\n",
       "       'Miscellaneous', 'Damage to Property'], dtype=object)"
      ]
     },
     "execution_count": 5,
     "metadata": {},
     "output_type": "execute_result"
    }
   ],
   "source": [
    "baile_Proced['Category'].unique()"
   ]
  },
  {
   "cell_type": "markdown",
   "metadata": {
    "id": "QlSKWrtKV6Vy"
   },
   "source": [
    "** cases are under 9 different categories."
   ]
  },
  {
   "cell_type": "code",
   "execution_count": 6,
   "metadata": {
    "colab": {
     "base_uri": "https://localhost:8080/"
    },
    "executionInfo": {
     "elapsed": 61,
     "status": "ok",
     "timestamp": 1680081320878,
     "user": {
      "displayName": "Jada Projects",
      "userId": "13935386077665551865"
     },
     "user_tz": -330
    },
    "id": "cBs9WRbMV_PA",
    "outputId": "c76d1d3a-30ee-4729-c792-31e4ed6c0dc2"
   },
   "outputs": [
    {
     "data": {
      "text/plain": [
       "Theft                 36\n",
       "Royal Offences        18\n",
       "Breaking Peace        15\n",
       "Deception             15\n",
       "Killing                7\n",
       "Violent Theft          4\n",
       "Sexual Offences        2\n",
       "Damage to Property     2\n",
       "Miscellaneous          1\n",
       "Name: Category, dtype: int64"
      ]
     },
     "execution_count": 6,
     "metadata": {},
     "output_type": "execute_result"
    }
   ],
   "source": [
    "baile_Proced['Category'].value_counts()"
   ]
  },
  {
   "cell_type": "code",
   "execution_count": 7,
   "metadata": {
    "colab": {
     "base_uri": "https://localhost:8080/"
    },
    "executionInfo": {
     "elapsed": 57,
     "status": "ok",
     "timestamp": 1680081320879,
     "user": {
      "displayName": "Jada Projects",
      "userId": "13935386077665551865"
     },
     "user_tz": -330
    },
    "id": "GIiCT_kVpV6u",
    "outputId": "4eb2b9dd-ee41-4b60-d3c4-ab7f3b652be1"
   },
   "outputs": [
    {
     "data": {
      "text/plain": [
       "0    https://www.oldbaileyonline.org/browse.jsp?id=...\n",
       "1    https://www.oldbaileyonline.org/browse.jsp?id=...\n",
       "2    https://www.oldbaileyonline.org/browse.jsp?id=...\n",
       "3    https://www.oldbaileyonline.org/browse.jsp?id=...\n",
       "4    https://www.oldbaileyonline.org/browse.jsp?id=...\n",
       "5    https://www.oldbaileyonline.org/browse.jsp?id=...\n",
       "6    https://www.oldbaileyonline.org/browse.jsp?id=...\n",
       "7    https://www.oldbaileyonline.org/browse.jsp?id=...\n",
       "8    https://www.oldbaileyonline.org/browse.jsp?id=...\n",
       "9    https://www.oldbaileyonline.org/browse.jsp?id=...\n",
       "Name: link, dtype: object"
      ]
     },
     "execution_count": 7,
     "metadata": {},
     "output_type": "execute_result"
    }
   ],
   "source": [
    "baile_Proced['link'][:10] #some link"
   ]
  },
  {
   "cell_type": "code",
   "execution_count": 8,
   "metadata": {
    "colab": {
     "base_uri": "https://localhost:8080/",
     "height": 139
    },
    "executionInfo": {
     "elapsed": 44,
     "status": "ok",
     "timestamp": 1680081320880,
     "user": {
      "displayName": "Jada Projects",
      "userId": "13935386077665551865"
     },
     "user_tz": -330
    },
    "id": "1fHy3G05V_Rt",
    "outputId": "53da86f0-d67c-4020-d1d6-13f3428daee9"
   },
   "outputs": [
    {
     "data": {
      "text/plain": [
       "'about 4.30 p.m. on August 30th I was driving my van along the Caledonian Road in the direction of Albion Street—outside a public-house there I saw four men in deep conversation—I saw an old gentleman walking along the road—the four men followed him down—my van got close up to the old gentleman, and I saw Barrett (See Sessions Paper, Vol. CXXX., page 923) separate from the others—he ran behind my van, then ran across the road in front of it, and came in front of the old gentleman—Grande made a signal with his left arm for Barrett to do something to the old gentleman—Barrett made a snatch at the old gentleman\\'s chain, and hit him under the chin with his other hand; then the other three rushed upon him and hustled him, and threw him down, with his legs in the gutter and his head on the pavement—I shouted out, \"Oh, you brutes!\" and jumped off my van—one of the men said to the deceased, \"Mind where you are going to\"—then they all four ran round a public-house on the other side—I picked the old gentleman up—he had a wound on the back of his head—I tied my handkerchief round his head, and called for assistance—part of his watch-chain was in his pocket, and part not—I picked Thompson out at the Police-court, but at the Police-station I failed to identify him—I was examined here last October, when the other men, Barrett, Grande, and Jones, were tried, and convicted—I say now that the prisoner is the fourth man.\\n\\nBy the COURT. Barrett was the man who hit the old gentleman under the chin—as he fell back he fell on the other three, and they knocked him into the gutter.\\n\\nCross-examined by the Prisoner. I did not hear you speak to Grande.\\n\\nGEORGE FREDERICK BARNES . I am a railway porter—on the afternoon of Wednesday, October 30th, I was walking down Caledonian Street in the direction of Albion Street—I saw the old gentleman and four men round him hustling and struggling with him—one of them struck his arm as if to make a snatch, and he fell on the back of his head in the gutter—three of the men ran away, one stopped a second or two as if to pick him up, then he ran after Jones or Bliss, as he is called—I identified three of the men, and the fourth is the prisoner.\\n\\nGEORGE JARED . I was next to the Albion public-house in Albion Street, Caledonian Road, on August 30th, in the afternoon—I saw three men running away; I followed them as fast as I could, but they got away—I heard Barrett say, \"It is no good running now \"—the third man who was running was the prisoner—some time after December 10th I was taken to the Police-station, and amongst them I saw the third man who was running away; that was Thompson.\\n\\nBy the COURT. I saw the old gentleman on the ground with his head in the gutter.\\n\\nJAMES HARVEY . I am a house agent—I knew Mr. Benbow—on August 30th, about 3.30 p.m., I was called to see him in Albion Street—he was about 64 years old—he was bleeding; I got a cab and took him to the hospital—his chain was missing, his watch was there—he had a £2 piece, which was gone.\\n\\nTHOMAS WALTER COFFIN, F.R.C.S . I practise at 31, Maiden Terrace, Haverstock Hill—I was the regular medical attendant of Mr. Benbow—he enjoyed pretty good health, and was a fairly strong man—I saw him\\n\\na short time before August 30th; he was then in fairly good health—I was called on the evening of August 30th to his house, and I found him suffering from a very severe injury go his brain—I did all I could for him; he lingered on till the early morning of October 1st, when he died—I made a post-mortem examination and found that the cause of death was a compound comminuted fracture of the skull, and extensive fractures to the base of the skull—those would quite naturally result from the deceased having been pushed down on to a kerbstone and coming in contact with the stone—I have no doubt that it was from those injuries that he died.\\n\\nTHOMAS PERCY LEGG . I was the house surgeon at the Royal Free Hospital on August 30th, when I attended to and dressed Mr. Benbow\\'s wounds—he had an injury to the base of the skull, from which he was bleeding freely—he desired to go away and have his own doctor—he left and went under the care of Dr. Coffin—all that I saw was consistent with what Dr. Coffin has said.\\n\\nGEORGE GODLEY (Detective Officer). About 2.45 p.m. on December 10th I saw the prisoner in the Edinboro\\' Castle public-house—I said, \"I want you to come outside\"—I took him out and said, \"I am Sergeant Godley\"—he said, \"Yes, I know you; I knew it would come sooner or later\"—I said, \"I shall arrest you for the manslaughter of Henry Benbow in Albion Street on August 80th last, and being concerned with Grande, Barrett, and Bliss\"—he said, \"Bliss did not ought to have got so much as he did; I am sorry for my old woman; it was Grande who knocked him out, and Barrett pulled his lot\"—I took him to the station, but the witness who attended could not identify him—in the dock at the Court two witnesses identified him, and he was placed with four men, and was identified by Jared—I searched him on his arrest and found two knives, one was a dagger knife.\\n\\nWALTER SELBY (Detective, G). I was present at the arrest of the prisoner on December 10th, and on the 11th when he was put up for identification by Button and Barnes in the library of the station—I took him back to the cells after—on the way to the cells he said, \"What is the good of messing about like this? I am identified\"—he had not been identified then—later on he was placed in the dock of the station and formally charged, after which he called me and said, \"Selby, those two men did not identify me from amongst the others, but if the carman likes to speak the truth he knows I did not touch the old man, and must have heard Grande say he would knock him out, and must have heard me say, \"For God\\'s sake don\\'t do so; I never go in for knocking anybody about.\"\\n\\nThe Prisoner, in his defence, said that he met the others in a public-house, and was going up the road with them when one of them said, \"Here is our fellow,\" and then he (the prisoner) said, \"What are you going to do?\" that they said, \"Knock this fellow out if he says anything\"; that he said, \"For God\\'s sake don\\'t do that\"; that they started running, and that he did the same because he thought people would think he had helped them, and that he did not stop running till he got home.\\n\\nGUILTY .— Fifteen Months\\' Hard Labour.\\n\\nThe✗ COURT awarded £5 to Button.'"
      ]
     },
     "execution_count": 8,
     "metadata": {},
     "output_type": "execute_result"
    }
   ],
   "source": [
    "baile_Proced['Proceedings Content'][3]# 3rd case proceedings."
   ]
  },
  {
   "cell_type": "code",
   "execution_count": 9,
   "metadata": {
    "colab": {
     "base_uri": "https://localhost:8080/"
    },
    "executionInfo": {
     "elapsed": 41,
     "status": "ok",
     "timestamp": 1680081320881,
     "user": {
      "displayName": "Jada Projects",
      "userId": "13935386077665551865"
     },
     "user_tz": -330
    },
    "id": "pmEAt_mTV_Wy",
    "outputId": "22f59c1c-3c45-424b-944a-eafcdd32f5a0"
   },
   "outputs": [
    {
     "name": "stdout",
     "output_type": "stream",
     "text": [
      "<class 'pandas.core.frame.DataFrame'>\n",
      "RangeIndex: 100 entries, 0 to 99\n",
      "Data columns (total 4 columns):\n",
      " #   Column               Non-Null Count  Dtype \n",
      "---  ------               --------------  ----- \n",
      " 0   Date                 100 non-null    object\n",
      " 1   link                 100 non-null    object\n",
      " 2   Category             100 non-null    object\n",
      " 3   Proceedings Content  100 non-null    object\n",
      "dtypes: object(4)\n",
      "memory usage: 3.2+ KB\n"
     ]
    }
   ],
   "source": [
    "baile_Proced.info()"
   ]
  },
  {
   "cell_type": "markdown",
   "metadata": {
    "id": "vcruXOK4fEVb"
   },
   "source": [
    "** infor: All the attributes are object type data.\n",
    "** And non_ull."
   ]
  },
  {
   "cell_type": "markdown",
   "metadata": {
    "id": "Q9N1kJHKms4U"
   },
   "source": [
    "## EDA"
   ]
  },
  {
   "cell_type": "code",
   "execution_count": 10,
   "metadata": {
    "colab": {
     "base_uri": "https://localhost:8080/",
     "height": 560
    },
    "executionInfo": {
     "elapsed": 1138,
     "status": "ok",
     "timestamp": 1680081321982,
     "user": {
      "displayName": "Jada Projects",
      "userId": "13935386077665551865"
     },
     "user_tz": -330
    },
    "id": "n-UWYMfSfcB4",
    "outputId": "51ec0348-fcc8-48e8-ca45-95824343deff"
   },
   "outputs": [
    {
     "data": {
      "text/plain": [
       "(array([0, 1, 2, 3, 4, 5, 6, 7, 8]),\n",
       " [Text(0, 0, 'Breaking Peace'),\n",
       "  Text(1, 0, 'Theft'),\n",
       "  Text(2, 0, 'Killing'),\n",
       "  Text(3, 0, 'Deception'),\n",
       "  Text(4, 0, 'Royal Offences'),\n",
       "  Text(5, 0, 'Violent Theft'),\n",
       "  Text(6, 0, 'Sexual Offences'),\n",
       "  Text(7, 0, 'Miscellaneous'),\n",
       "  Text(8, 0, 'Damage to Property')])"
      ]
     },
     "execution_count": 10,
     "metadata": {},
     "output_type": "execute_result"
    },
    {
     "data": {
      "image/png": "[encoded data removed]",
      "text/plain": [
       "<Figure size 640x480 with 1 Axes>"
      ]
     },
     "metadata": {},
     "output_type": "display_data"
    }
   ],
   "source": [
    "import seaborn as baile_ProcedBSr\n",
    "## Plot to check the category\n",
    "baile_ProcedBSr.countplot(x ='Category', data = baile_Proced).set(title='Old Bailey Proceedings Category')\n",
    "\n",
    "import matplotlib.pyplot as baile_ProcedYP\n",
    "baile_ProcedYP.xticks(rotation=91)"
   ]
  },
  {
   "cell_type": "markdown",
   "metadata": {
    "id": "4rnA-oR4mzFk"
   },
   "source": [
    "** 'Theft' kind of cases are more."
   ]
  },
  {
   "cell_type": "code",
   "execution_count": 11,
   "metadata": {
    "id": "zOFdHTqIfcFM"
   },
   "outputs": [],
   "source": [
    "##Drop date and link attributes...\n",
    "del baile_Proced['Date']\n",
    "del baile_Proced['link']"
   ]
  },
  {
   "cell_type": "code",
   "execution_count": 12,
   "metadata": {
    "id": "cdfpbojgfcIX"
   },
   "outputs": [],
   "source": [
    "baile_Proced.to_csv('Data.csv', index=False)"
   ]
  },
  {
   "cell_type": "code",
   "execution_count": 13,
   "metadata": {
    "colab": {
     "base_uri": "https://localhost:8080/"
    },
    "executionInfo": {
     "elapsed": 6474,
     "status": "ok",
     "timestamp": 1684999208313,
     "user": {
      "displayName": "Jada Projects",
      "userId": "13935386077665551865"
     },
     "user_tz": -330
    },
    "id": "XZWUG0OzxxPC",
    "outputId": "cc544531-d247-415e-f054-8dd61ecae257"
   },
   "outputs": [
    {
     "name": "stdout",
     "output_type": "stream",
     "text": [
      "Requirement already satisfied: rouge_score in /Users/aj/opt/anaconda3/lib/python3.9/site-packages (0.1.2)\r\n",
      "Requirement already satisfied: numpy in /Users/aj/opt/anaconda3/lib/python3.9/site-packages (from rouge_score) (1.21.5)\r\n",
      "Requirement already satisfied: six>=1.14.0 in /Users/aj/opt/anaconda3/lib/python3.9/site-packages (from rouge_score) (1.16.0)\r\n",
      "Requirement already satisfied: absl-py in /Users/aj/opt/anaconda3/lib/python3.9/site-packages (from rouge_score) (1.4.0)\r\n",
      "Requirement already satisfied: nltk in /Users/aj/opt/anaconda3/lib/python3.9/site-packages (from rouge_score) (3.7)\r\n",
      "Requirement already satisfied: tqdm in /Users/aj/opt/anaconda3/lib/python3.9/site-packages (from nltk->rouge_score) (4.64.1)\r\n",
      "Requirement already satisfied: regex>=2021.8.3 in /Users/aj/opt/anaconda3/lib/python3.9/site-packages (from nltk->rouge_score) (2022.7.9)\r\n",
      "Requirement already satisfied: click in /Users/aj/opt/anaconda3/lib/python3.9/site-packages (from nltk->rouge_score) (8.0.4)\r\n",
      "Requirement already satisfied: joblib in /Users/aj/opt/anaconda3/lib/python3.9/site-packages (from nltk->rouge_score) (1.1.0)\r\n"
     ]
    }
   ],
   "source": [
    "!pip install rouge_score"
   ]
  },
  {
   "cell_type": "code",
   "execution_count": 14,
   "metadata": {
    "id": "3K6njx_gxmPW"
   },
   "outputs": [],
   "source": [
    "from rouge_score import rouge_scorer\n",
    "\n",
    "# a list of the hypothesis documents\n",
    "hyp = ['hi.. this is manisha here']\n",
    "# a list of the references documents\n",
    "ref = ['hi.. manisha here']\n",
    "\n",
    "# make a RougeScorer object with rouge_types=['rouge1']\n",
    "scorer = rouge_scorer.RougeScorer(['rouge1'])\n",
    "\n",
    "# a dictionary that will contain the results\n",
    "results = {'precision': [], 'recall': [], 'fmeasure': []}\n",
    "\n",
    "# for each of the hypothesis and reference documents pair\n",
    "for (h, r) in zip(hyp, ref):\n",
    "    # computing the ROUGE\n",
    "    score = scorer.score(h, r)\n",
    "    # separating the measurements\n",
    "    precision, recall, fmeasure = score['rouge1']\n",
    "    # add them to the proper list in the dictionary\n",
    "    results['precision'].append(precision)\n",
    "    results['recall'].append(recall)\n",
    "    results['fmeasure'].append(fmeasure)"
   ]
  },
  {
   "cell_type": "code",
   "execution_count": 15,
   "metadata": {
    "colab": {
     "base_uri": "https://localhost:8080/"
    },
    "executionInfo": {
     "elapsed": 1647,
     "status": "ok",
     "timestamp": 1684999867650,
     "user": {
      "displayName": "Jada Projects",
      "userId": "13935386077665551865"
     },
     "user_tz": -330
    },
    "id": "xiR-AtVRx6Yj",
    "outputId": "6787edbf-912a-4e0b-f10d-120925192402"
   },
   "outputs": [
    {
     "data": {
      "text/plain": [
       "{'precision': [1.0], 'recall': [0.6], 'fmeasure': [0.7499999999999999]}"
      ]
     },
     "execution_count": 15,
     "metadata": {},
     "output_type": "execute_result"
    }
   ],
   "source": [
    "results"
   ]
  }
 ],
 "metadata": {
  "colab": {
   "provenance": []
  },
  "kernelspec": {
   "display_name": "Python 3 (ipykernel)",
   "language": "python",
   "name": "python3"
  },
  "language_info": {
   "codemirror_mode": {
    "name": "ipython",
    "version": 3
   },
   "file_extension": ".py",
   "mimetype": "text/x-python",
   "name": "python",
   "nbconvert_exporter": "python",
   "pygments_lexer": "ipython3",
   "version": "3.9.13"
  }
 },
 "nbformat": 4,
 "nbformat_minor": 1
}
