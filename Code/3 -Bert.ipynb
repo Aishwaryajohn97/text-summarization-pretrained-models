{
 "cells": [
  {
   "cell_type": "code",
   "execution_count": 1,
   "metadata": {
    "id": "YzXdn_QSmZi9"
   },
   "outputs": [],
   "source": [
    "import warnings as txt_sum_wrngs\n",
    "txt_sum_wrngs.filterwarnings(\"ignore\")"
   ]
  },
  {
   "cell_type": "code",
   "execution_count": 2,
   "metadata": {
    "id": "wuDE8-onmrlT"
   },
   "outputs": [
    {
     "name": "stdout",
     "output_type": "stream",
     "text": [
      "Requirement already satisfied: transformers in /Users/aj/opt/anaconda3/lib/python3.9/site-packages (4.33.1)\n",
      "Requirement already satisfied: numpy>=1.17 in /Users/aj/opt/anaconda3/lib/python3.9/site-packages (from transformers) (1.21.5)\n",
      "Requirement already satisfied: packaging>=20.0 in /Users/aj/opt/anaconda3/lib/python3.9/site-packages (from transformers) (21.3)\n",
      "Requirement already satisfied: regex!=2019.12.17 in /Users/aj/opt/anaconda3/lib/python3.9/site-packages (from transformers) (2022.7.9)\n",
      "Requirement already satisfied: safetensors>=0.3.1 in /Users/aj/opt/anaconda3/lib/python3.9/site-packages (from transformers) (0.3.3)\n",
      "Requirement already satisfied: pyyaml>=5.1 in /Users/aj/opt/anaconda3/lib/python3.9/site-packages (from transformers) (6.0)\n",
      "Requirement already satisfied: filelock in /Users/aj/opt/anaconda3/lib/python3.9/site-packages (from transformers) (3.6.0)\n",
      "Requirement already satisfied: requests in /Users/aj/opt/anaconda3/lib/python3.9/site-packages (from transformers) (2.28.1)\n",
      "Requirement already satisfied: huggingface-hub<1.0,>=0.15.1 in /Users/aj/opt/anaconda3/lib/python3.9/site-packages (from transformers) (0.16.4)\n",
      "Requirement already satisfied: tqdm>=4.27 in /Users/aj/opt/anaconda3/lib/python3.9/site-packages (from transformers) (4.64.1)\n",
      "Requirement already satisfied: tokenizers!=0.11.3,<0.14,>=0.11.1 in /Users/aj/opt/anaconda3/lib/python3.9/site-packages (from transformers) (0.13.3)\n",
      "Requirement already satisfied: typing-extensions>=3.7.4.3 in /Users/aj/opt/anaconda3/lib/python3.9/site-packages (from huggingface-hub<1.0,>=0.15.1->transformers) (4.3.0)\n",
      "Requirement already satisfied: fsspec in /Users/aj/opt/anaconda3/lib/python3.9/site-packages (from huggingface-hub<1.0,>=0.15.1->transformers) (2022.7.1)\n",
      "Requirement already satisfied: pyparsing!=3.0.5,>=2.0.2 in /Users/aj/opt/anaconda3/lib/python3.9/site-packages (from packaging>=20.0->transformers) (3.0.9)\n",
      "Requirement already satisfied: urllib3<1.27,>=1.21.1 in /Users/aj/opt/anaconda3/lib/python3.9/site-packages (from requests->transformers) (1.26.11)\n",
      "Requirement already satisfied: charset-normalizer<3,>=2 in /Users/aj/opt/anaconda3/lib/python3.9/site-packages (from requests->transformers) (2.0.4)\n",
      "Requirement already satisfied: certifi>=2017.4.17 in /Users/aj/opt/anaconda3/lib/python3.9/site-packages (from requests->transformers) (2022.9.24)\n",
      "Requirement already satisfied: idna<4,>=2.5 in /Users/aj/opt/anaconda3/lib/python3.9/site-packages (from requests->transformers) (3.3)\n",
      "Requirement already satisfied: rouge-score in /Users/aj/opt/anaconda3/lib/python3.9/site-packages (0.1.2)\n",
      "Requirement already satisfied: six>=1.14.0 in /Users/aj/opt/anaconda3/lib/python3.9/site-packages (from rouge-score) (1.16.0)\n",
      "Requirement already satisfied: nltk in /Users/aj/opt/anaconda3/lib/python3.9/site-packages (from rouge-score) (3.7)\n",
      "Requirement already satisfied: absl-py in /Users/aj/opt/anaconda3/lib/python3.9/site-packages (from rouge-score) (1.4.0)\n",
      "Requirement already satisfied: numpy in /Users/aj/opt/anaconda3/lib/python3.9/site-packages (from rouge-score) (1.21.5)\n",
      "Requirement already satisfied: tqdm in /Users/aj/opt/anaconda3/lib/python3.9/site-packages (from nltk->rouge-score) (4.64.1)\n",
      "Requirement already satisfied: joblib in /Users/aj/opt/anaconda3/lib/python3.9/site-packages (from nltk->rouge-score) (1.1.0)\n",
      "Requirement already satisfied: click in /Users/aj/opt/anaconda3/lib/python3.9/site-packages (from nltk->rouge-score) (8.0.4)\n",
      "Requirement already satisfied: regex>=2021.8.3 in /Users/aj/opt/anaconda3/lib/python3.9/site-packages (from nltk->rouge-score) (2022.7.9)\n"
     ]
    }
   ],
   "source": [
    "!pip install transformers\n",
    "!pip install rouge-score\n",
    "!pip install torch"
   ]
  },
  {
   "cell_type": "code",
   "execution_count": null,
   "metadata": {
    "id": "u6MsB3_Dmgh2"
   },
   "outputs": [],
   "source": [
    "import pandas as txt_sum_pd\n",
    "import torch as txt_sum_trch\n",
    "from transformers import BertTokenizer as txt_sum_bert_tknzr\n",
    "from transformers import BertForMaskedLM as txt_sum_bert_mskd_lm\n",
    "from transformers import BertModel as txt_sum_bert_mdl\n",
    "from rouge_score import rouge_scorer as txt_sum_rg_scr\n",
    "from transformers import pipeline as txt_sum_rg_ppln"
   ]
  },
  {
   "cell_type": "code",
   "execution_count": null,
   "metadata": {
    "colab": {
     "base_uri": "https://localhost:8080/"
    },
    "executionInfo": {
     "elapsed": 8,
     "status": "ok",
     "timestamp": 1691528193044,
     "user": {
      "displayName": "Divya Yashika",
      "userId": "02699996978051537129"
     },
     "user_tz": -330
    },
    "id": "FwnR1BBDmkUI",
    "outputId": "cea3e925-a22f-4722-fa1f-62031bc1afe9"
   },
   "outputs": [],
   "source": [
    "txt_sum_data_frm = txt_sum_pd.read_csv(\"Data.csv\")\n",
    "txt_sum_data_frm.shape"
   ]
  },
  {
   "cell_type": "code",
   "execution_count": null,
   "metadata": {
    "colab": {
     "base_uri": "https://localhost:8080/",
     "height": 424
    },
    "executionInfo": {
     "elapsed": 780,
     "status": "ok",
     "timestamp": 1691528193819,
     "user": {
      "displayName": "Divya Yashika",
      "userId": "02699996978051537129"
     },
     "user_tz": -330
    },
    "id": "0SrESd9XnUg8",
    "outputId": "70e51d00-b046-4193-e7d2-690f4bcc6d48"
   },
   "outputs": [],
   "source": [
    "txt_sum_data_frm"
   ]
  },
  {
   "cell_type": "code",
   "execution_count": null,
   "metadata": {
    "colab": {
     "base_uri": "https://localhost:8080/"
    },
    "executionInfo": {
     "elapsed": 4,
     "status": "ok",
     "timestamp": 1691528193819,
     "user": {
      "displayName": "Divya Yashika",
      "userId": "02699996978051537129"
     },
     "user_tz": -330
    },
    "id": "DdTexHOdnXa0",
    "outputId": "b174cd0f-0c8b-40d8-a5d6-19a8495703ba"
   },
   "outputs": [],
   "source": [
    "txt_sum_data_frm['Proceedings Content'].str.len()"
   ]
  },
  {
   "cell_type": "markdown",
   "metadata": {
    "id": "laUqDd7InmMo"
   },
   "source": [
    "#### Summarizing one sentence from the data using BERT as an example to understand the before and after results of summarization"
   ]
  },
  {
   "cell_type": "code",
   "execution_count": null,
   "metadata": {
    "colab": {
     "base_uri": "https://localhost:8080/"
    },
    "executionInfo": {
     "elapsed": 2,
     "status": "ok",
     "timestamp": 1691528193819,
     "user": {
      "displayName": "Divya Yashika",
      "userId": "02699996978051537129"
     },
     "user_tz": -330
    },
    "id": "erl444XRnh-p",
    "outputId": "9ead3026-4c5d-47e8-e228-2cca91246843"
   },
   "outputs": [],
   "source": [
    "txt_sum_ex_text = txt_sum_data_frm[\"Proceedings Content\"][0]\n",
    "print(len(txt_sum_ex_text))"
   ]
  },
  {
   "cell_type": "code",
   "execution_count": null,
   "metadata": {
    "id": "PHHlU19sn8_N"
   },
   "outputs": [],
   "source": [
    "def bert_txt_summarizer(txt_sum_inpt_txt):\n",
    "  txt_sum_bert_mdl_nm =\"bert-base-uncased\"\n",
    "  txt_sum_bert_mx_lth=150\n",
    "  txt_sum_toknzr = txt_sum_bert_tknzr.from_pretrained(txt_sum_bert_mdl_nm)\n",
    "  txt_sum_bert_mdl = txt_sum_bert_mskd_lm.from_pretrained(txt_sum_bert_mdl_nm)\n",
    "  txt_sum_bert_inputs = txt_sum_toknzr(txt_sum_inpt_txt, return_tensors='pt', truncation=True, max_length=txt_sum_bert_mx_lth, padding=True)\n",
    "  with txt_sum_trch.no_grad():\n",
    "      txt_sum_outputs = txt_sum_bert_mdl.generate(txt_sum_bert_inputs.input_ids, attention_mask=txt_sum_bert_inputs.attention_mask, max_length=txt_sum_bert_mx_lth)\n",
    "\n",
    "  txt_sum_output = txt_sum_toknzr.decode(txt_sum_outputs[0], skip_special_tokens=True)\n",
    "  return txt_sum_output\n"
   ]
  },
  {
   "cell_type": "code",
   "execution_count": null,
   "metadata": {
    "id": "_50_gHbfpDaC"
   },
   "outputs": [],
   "source": [
    "txt_sum_ex_output = bert_txt_summarizer(txt_sum_ex_text)"
   ]
  },
  {
   "cell_type": "code",
   "execution_count": null,
   "metadata": {
    "colab": {
     "base_uri": "https://localhost:8080/"
    },
    "executionInfo": {
     "elapsed": 17,
     "status": "ok",
     "timestamp": 1691528206329,
     "user": {
      "displayName": "Divya Yashika",
      "userId": "02699996978051537129"
     },
     "user_tz": -330
    },
    "id": "VDx_JcSNphFV",
    "outputId": "77499e83-e1d2-4ea4-b3f9-5c410f093a12"
   },
   "outputs": [],
   "source": [
    "print(len(txt_sum_ex_output))"
   ]
  },
  {
   "cell_type": "code",
   "execution_count": null,
   "metadata": {
    "colab": {
     "base_uri": "https://localhost:8080/"
    },
    "executionInfo": {
     "elapsed": 12428,
     "status": "ok",
     "timestamp": 1691528218742,
     "user": {
      "displayName": "Divya Yashika",
      "userId": "02699996978051537129"
     },
     "user_tz": -330
    },
    "id": "qMJOIqZx3dUH",
    "outputId": "e34b6dd5-885a-4386-e14b-3eadb8b1aec4"
   },
   "outputs": [],
   "source": [
    "txt_sum_mdl_nm = \"bert-base-uncased\"\n",
    "\n",
    "txt_sum_smrzr = txt_sum_rg_ppln(\"summarization\", model=txt_sum_mdl_nm)\n",
    "\n",
    "txt_sum_opt_smry = txt_sum_ex_output\n",
    "txt_sum_inpt_ex = txt_sum_ex_text\n",
    "\n",
    "txt_sum_scr = txt_sum_rg_scr.RougeScorer(['rouge1', 'rouge2', 'rougeL'], use_stemmer=True)\n",
    "txt_sum_scrs = txt_sum_scr.score(txt_sum_inpt_ex, txt_sum_opt_smry)\n",
    "\n",
    "for txt_sum_mtrc, txt_sum_scr in txt_sum_scrs.items():\n",
    "    print(f\"{txt_sum_mtrc}:\")\n",
    "    print(f\"  Precision: {txt_sum_scr.precision:.4f}\")\n",
    "    print(f\"  Recall: {txt_sum_scr.recall:.4f}\")\n",
    "    print(f\"  F1 Score: {txt_sum_scr.fmeasure:.4f}\")\n"
   ]
  },
  {
   "cell_type": "markdown",
   "metadata": {
    "id": "uGSsoagIpube"
   },
   "source": [
    "#### Summarizing all the sentences in the data\n"
   ]
  },
  {
   "cell_type": "code",
   "execution_count": null,
   "metadata": {
    "id": "D6UPoczmpk4R"
   },
   "outputs": [],
   "source": [
    "# defining the bert model to summarize the text data\n",
    "\n",
    "def bert_txt_summarizer(txt_sum_inpt_txt):\n",
    "  txt_sum_bert_mdl_nm =\"bert-base-uncased\"\n",
    "  txt_sum_bert_mx_lth=150\n",
    "  txt_sum_toknzr = txt_sum_bert_tknzr.from_pretrained(txt_sum_bert_mdl_nm)\n",
    "  txt_sum_bert_mdl = txt_sum_bert_mskd_lm.from_pretrained(txt_sum_bert_mdl_nm)\n",
    "  txt_sum_bert_inputs = txt_sum_toknzr(txt_sum_inpt_txt, return_tensors='pt', truncation=True, max_length=txt_sum_bert_mx_lth, padding=True)\n",
    "  with txt_sum_trch.no_grad():\n",
    "      txt_sum_outputs = txt_sum_bert_mdl.generate(txt_sum_bert_inputs.input_ids, attention_mask=txt_sum_bert_inputs.attention_mask, max_length=txt_sum_bert_mx_lth)\n",
    "\n",
    "  txt_sum_output = txt_sum_toknzr.decode(txt_sum_outputs[0], skip_special_tokens=True)\n",
    "  return txt_sum_output\n"
   ]
  },
  {
   "cell_type": "code",
   "execution_count": null,
   "metadata": {
    "id": "6atvcllLqc-s"
   },
   "outputs": [],
   "source": [
    "txt_sum_output_lis = []\n",
    "for txt in txt_sum_data_frm['Proceedings Content']:\n",
    "  txt_sum_smrzd_opt = bert_txt_summarizer(txt)\n",
    "  txt_sum_output_lis.append(txt_sum_smrzd_opt)"
   ]
  },
  {
   "cell_type": "code",
   "execution_count": null,
   "metadata": {
    "colab": {
     "base_uri": "https://localhost:8080/",
     "height": 424
    },
    "executionInfo": {
     "elapsed": 13,
     "status": "ok",
     "timestamp": 1691528567703,
     "user": {
      "displayName": "Divya Yashika",
      "userId": "02699996978051537129"
     },
     "user_tz": -330
    },
    "id": "27imlEkvquAJ",
    "outputId": "98090231-7fd3-4d2f-a914-64642a5e436b"
   },
   "outputs": [],
   "source": [
    "txt_sum_opt_dta_frm = txt_sum_pd.DataFrame()\n",
    "for opt in range(len(txt_sum_output_lis)):\n",
    "  txt_sum_pre = txt_sum_pd.Series({'Proceeding_content':txt_sum_data_frm['Proceedings Content'].unique()[opt],'Bert_summarized_output':txt_sum_output_lis[opt]})\n",
    "  txt_sum_opt_dta_frm = txt_sum_opt_dta_frm.append(txt_sum_pre,ignore_index=True)\n",
    "txt_sum_opt_dta_frm['Category']=txt_sum_data_frm['Category']\n",
    "txt_sum_opt_dta_frm"
   ]
  },
  {
   "cell_type": "code",
   "execution_count": null,
   "metadata": {
    "colab": {
     "base_uri": "https://localhost:8080/"
    },
    "executionInfo": {
     "elapsed": 10,
     "status": "ok",
     "timestamp": 1691528567703,
     "user": {
      "displayName": "Divya Yashika",
      "userId": "02699996978051537129"
     },
     "user_tz": -330
    },
    "id": "v6FLcjvoyLxR",
    "outputId": "7ce86301-0504-457c-d5a1-5cbaafa7dc36"
   },
   "outputs": [],
   "source": [
    "txt_sum_opt_dta_frm['Bert_summarized_output'].str.len()"
   ]
  },
  {
   "cell_type": "markdown",
   "metadata": {
    "id": "KI8l1545sHWc"
   },
   "source": [
    "Evaluation using Rougue Score"
   ]
  },
  {
   "cell_type": "code",
   "execution_count": null,
   "metadata": {
    "colab": {
     "base_uri": "https://localhost:8080/"
    },
    "executionInfo": {
     "elapsed": 3318,
     "status": "ok",
     "timestamp": 1691528571015,
     "user": {
      "displayName": "Divya Yashika",
      "userId": "02699996978051537129"
     },
     "user_tz": -330
    },
    "id": "zOcIlUcCsKyK",
    "outputId": "9e8b9d7d-9345-4bb4-b6e2-a86ccf74a4e2"
   },
   "outputs": [],
   "source": [
    "txt_sum_mdl_nm = \"bert-base-uncased\"\n",
    "\n",
    "txt_sum_smrzr = txt_sum_rg_ppln(\"summarization\", model=txt_sum_mdl_nm)\n",
    "\n",
    "row_index = 0\n",
    "\n",
    "txt_sum_opt_smry = txt_sum_opt_dta_frm['Bert_summarized_output'].iloc[row_index]\n",
    "txt_sum_inpt_ex = txt_sum_opt_dta_frm[\"Proceeding_content\"].iloc[row_index]\n",
    "\n",
    "txt_sum_scr = txt_sum_rg_scr.RougeScorer(['rouge1', 'rouge2', 'rougeL'], use_stemmer=True)\n",
    "txt_sum_scrs = txt_sum_scr.score(txt_sum_inpt_ex, txt_sum_opt_smry)\n",
    "\n",
    "for txt_sum_mtrc, txt_sum_scr in txt_sum_scrs.items():\n",
    "    print(f\"{txt_sum_mtrc}:\")\n",
    "    print(f\"  Precision: {txt_sum_scr.precision:.4f}\")\n",
    "    print(f\"  Recall: {txt_sum_scr.recall:.4f}\")\n",
    "    print(f\"  F1 Score: {txt_sum_scr.fmeasure:.4f}\")"
   ]
  }
 ],
 "metadata": {
  "colab": {
   "provenance": []
  },
  "kernelspec": {
   "display_name": "Python 3 (ipykernel)",
   "language": "python",
   "name": "python3"
  },
  "language_info": {
   "codemirror_mode": {
    "name": "ipython",
    "version": 3
   },
   "file_extension": ".py",
   "mimetype": "text/x-python",
   "name": "python",
   "nbconvert_exporter": "python",
   "pygments_lexer": "ipython3",
   "version": "3.9.13"
  }
 },
 "nbformat": 4,
 "nbformat_minor": 1
}
